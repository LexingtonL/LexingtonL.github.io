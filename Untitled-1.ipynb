{
 "cells": [
  {
   "cell_type": "code",
   "execution_count": null,
   "metadata": {},
   "outputs": [
    {
     "name": "stdout",
     "output_type": "stream",
     "text": [
      "1\n",
      "4\n",
      "bizz\n",
      "17\n",
      "bizz\n"
     ]
    }
   ],
   "source": [
    "import random\n",
    "\n",
    "def bizz_buzz(number: int):\n",
    "    \n",
    "    \n",
    "    if number % 7 == 0:\n",
    "        return \"bizz\"\n",
    "        \n",
    "    number_as_list = [str(number).split()]\n",
    "    \n",
    "    if 7 in number_as_list:\n",
    "        return \"buzz\"\n",
    "    \n",
    "    else:\n",
    "        return number\n",
    "    \n",
    "\n",
    "print(bizz_buzz(1))\n",
    "print(bizz_buzz(4))\n",
    "print(bizz_buzz(14))\n",
    "print(bizz_buzz(17))\n",
    "print(bizz_buzz(21))\n",
    "    "
   ]
  }
 ],
 "metadata": {
  "kernelspec": {
   "display_name": "Python 3",
   "language": "python",
   "name": "python3"
  },
  "language_info": {
   "codemirror_mode": {
    "name": "ipython",
    "version": 3
   },
   "file_extension": ".py",
   "mimetype": "text/x-python",
   "name": "python",
   "nbconvert_exporter": "python",
   "pygments_lexer": "ipython3",
   "version": "3.12.5"
  }
 },
 "nbformat": 4,
 "nbformat_minor": 2
}
